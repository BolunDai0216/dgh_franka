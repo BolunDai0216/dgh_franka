{
 "cells": [
  {
   "cell_type": "code",
   "execution_count": null,
   "metadata": {},
   "outputs": [],
   "source": [
    "# from FR3Env import getDataPath\n",
    "import matplotlib.pyplot as plt\n",
    "import numpy as np\n",
    "# from pinocchio.robot_wrapper import RobotWrapper\n",
    "from scipy.spatial.transform import Rotation as R\n",
    "import pickle\n",
    "import sys\n",
    "import time\n",
    "# sys.path.append(\"/usr/local/lib/python3.8/site-packages\")\n",
    "from dgh_franka import FrankaDynamicGraphHead\n",
    "import yaml"
   ]
  },
  {
   "cell_type": "code",
   "execution_count": null,
   "metadata": {},
   "outputs": [],
   "source": [
    "import os\n",
    "pid = os.getpid()\n",
    "print(f'The Process ID of the current notebook is: {pid}. Now setting it to real-time mode...')\n",
    "!chrt -f -p 98 $pid # 99 is the process ID of the DGM. This notebook is lower in importan\n",
    "!chrt -p $pid"
   ]
  },
  {
   "cell_type": "code",
   "execution_count": null,
   "metadata": {},
   "outputs": [],
   "source": [
    "robot_yaml = \"/home/mocap/Documents/dgm_franka/install/share/dgm_franka/franka_dynamic_interface.yaml\"\n",
    "franka_dgh = FrankaDynamicGraphHead(robot_yaml, plotting=False)"
   ]
  },
  {
   "cell_type": "code",
   "execution_count": null,
   "metadata": {},
   "outputs": [],
   "source": [
    "nominal_joint_angles = np.array(\n",
    "    [\n",
    "        0.0,\n",
    "        -np.pi / 4,\n",
    "        0.0,\n",
    "        -3 * np.pi / 4,\n",
    "        0.0,\n",
    "        np.pi / 2,\n",
    "        np.pi / 4,\n",
    "    ]\n",
    ")"
   ]
  },
  {
   "cell_type": "code",
   "execution_count": null,
   "metadata": {},
   "outputs": [],
   "source": [
    "start_time = time.time()\n",
    "computation_times = []\n",
    "\n",
    "for i in range(10000):\n",
    "    # read states and get time\n",
    "    state = franka_dgh.readStates()\n",
    "    q, dq = state[\"q\"], state[\"dq\"]\n",
    "    q = q.copy()\n",
    "    dq = dq.copy()\n",
    "    \n",
    "    tau = 10 * (nominal_joint_angles - q) + 1 * (0 - dq)\n",
    "\n",
    "    # set control, last 2 terms are for the finger\n",
    "    franka_dgh.setCommand(tau)\n",
    "    computation_times.append(time.time() - start_time)\n",
    "    time.sleep(0.001)"
   ]
  },
  {
   "cell_type": "code",
   "execution_count": null,
   "metadata": {},
   "outputs": [],
   "source": [
    "franka_dgh.close()"
   ]
  }
 ],
 "metadata": {
  "language_info": {
   "name": "python"
  },
  "orig_nbformat": 4
 },
 "nbformat": 4,
 "nbformat_minor": 2
}
